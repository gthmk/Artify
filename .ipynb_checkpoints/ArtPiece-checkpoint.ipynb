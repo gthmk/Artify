{
 "cells": [
  {
   "cell_type": "code",
   "execution_count": 1,
   "id": "fac34f26",
   "metadata": {},
   "outputs": [],
   "source": [
    "class ArtPiece:\n",
    "    def __init__(self, image_loc, image_link, tags, name=None, artist=None, year=None):\n",
    "        self.image_loc = image_loc\n",
    "        self.image_link = image_link\n",
    "        self.tags = tags\n",
    "        self.name = name\n",
    "        self.artist = artist\n",
    "        self.year = year\n",
    "        self.vader_embedding = None\n",
    "        self.tag_embedding = None\n",
    "        self.vader = None\n",
    "        \n",
    "    def get_tags(self, listForm = False, splitChar = ' '):\n",
    "        if listForm:\n",
    "            return self.tags.split(splitChar)\n",
    "        return self.tags\n",
    "\n",
    "    def get_vader(self, listForm = False, splitChar = ' '):\n",
    "        if listForm:\n",
    "            return self.vader.split(splitChar)\n",
    "        return self.vader\n",
    "    \n",
    "    def get_combined(self, listForm = False, splitChar = ' '):\n",
    "        if listForm:\n",
    "            return self.tags.split(splitChar) + self.vader.split(splitChar)\n",
    "        return '{} {}'.format(self.tags, self.vader)\n",
    "    \n",
    "    def get_combined_embedding(self):\n",
    "        return self.tag_embedding + self.vader_embedding\n",
    "    \n",
    "    def get_vader_embedding(self):\n",
    "        return self.vader_embedding\n",
    "    \n",
    "    def get_tag_embedding(self):\n",
    "        return self.tag_embedding\n",
    "    \n",
    "    def set_vader_embedding(self, vader_embedding):\n",
    "        self.vader_embedding = vader_embedding\n",
    "    \n",
    "    def set_tag_embedding(self, tag_embedding):\n",
    "        self.tag_embedding = tag_embedding\n",
    "        \n",
    "    def set_vader(self, vader):\n",
    "        self.vader = vader\n",
    "    \n",
    "    \n",
    "    "
   ]
  },
  {
   "cell_type": "code",
   "execution_count": 5,
   "id": "9b7c07c9",
   "metadata": {},
   "outputs": [
    {
     "ename": "SyntaxError",
     "evalue": "invalid syntax (284086622.py, line 2)",
     "output_type": "error",
     "traceback": [
      "\u001b[0;36m  File \u001b[0;32m\"/var/folders/jn/xrcmb83x1619j83snxkqrh4w0000gn/T/ipykernel_4757/284086622.py\"\u001b[0;36m, line \u001b[0;32m2\u001b[0m\n\u001b[0;31m    from Vader from frontend\u001b[0m\n\u001b[0m               ^\u001b[0m\n\u001b[0;31mSyntaxError\u001b[0m\u001b[0;31m:\u001b[0m invalid syntax\n"
     ]
    }
   ],
   "source": [
    "import pandas as pd\n",
    "im Vader from frontend"
   ]
  },
  {
   "cell_type": "code",
   "execution_count": 4,
   "id": "b86406bd",
   "metadata": {},
   "outputs": [
    {
     "ename": "NameError",
     "evalue": "name 'findClosestVader' is not defined",
     "output_type": "error",
     "traceback": [
      "\u001b[0;31m---------------------------------------------------------------------------\u001b[0m",
      "\u001b[0;31mNameError\u001b[0m                                 Traceback (most recent call last)",
      "\u001b[0;32m/var/folders/jn/xrcmb83x1619j83snxkqrh4w0000gn/T/ipykernel_4757/2111089844.py\u001b[0m in \u001b[0;36m<module>\u001b[0;34m\u001b[0m\n\u001b[1;32m      5\u001b[0m \u001b[0;34m\u001b[0m\u001b[0m\n\u001b[1;32m      6\u001b[0m \u001b[0;32mfor\u001b[0m \u001b[0mart\u001b[0m \u001b[0;32min\u001b[0m \u001b[0mart_pieces\u001b[0m\u001b[0;34m:\u001b[0m\u001b[0;34m\u001b[0m\u001b[0;34m\u001b[0m\u001b[0m\n\u001b[0;32m----> 7\u001b[0;31m     \u001b[0mart\u001b[0m\u001b[0;34m.\u001b[0m\u001b[0mset_vader\u001b[0m\u001b[0;34m(\u001b[0m\u001b[0;34m' '\u001b[0m\u001b[0;34m.\u001b[0m\u001b[0mjoin\u001b[0m\u001b[0;34m(\u001b[0m\u001b[0mfindClosestVader\u001b[0m\u001b[0;34m(\u001b[0m\u001b[0mart\u001b[0m\u001b[0;34m.\u001b[0m\u001b[0mget_tags\u001b[0m\u001b[0;34m(\u001b[0m\u001b[0;32mFalse\u001b[0m\u001b[0;34m)\u001b[0m\u001b[0;34m,\u001b[0m \u001b[0mint\u001b[0m\u001b[0;34m(\u001b[0m\u001b[0mlen\u001b[0m\u001b[0;34m(\u001b[0m\u001b[0mart\u001b[0m\u001b[0;34m.\u001b[0m\u001b[0mget_tags\u001b[0m\u001b[0;34m(\u001b[0m\u001b[0;32mTrue\u001b[0m\u001b[0;34m)\u001b[0m\u001b[0;34m)\u001b[0m\u001b[0;34m/\u001b[0m\u001b[0;36m3\u001b[0m\u001b[0;34m)\u001b[0m\u001b[0;34m)\u001b[0m\u001b[0;34m)\u001b[0m\u001b[0;34m)\u001b[0m\u001b[0;34m\u001b[0m\u001b[0;34m\u001b[0m\u001b[0m\n\u001b[0m\u001b[1;32m      8\u001b[0m     \u001b[0mtag_embeddings\u001b[0m \u001b[0;34m=\u001b[0m \u001b[0;34m[\u001b[0m\u001b[0;34m]\u001b[0m\u001b[0;34m\u001b[0m\u001b[0;34m\u001b[0m\u001b[0m\n\u001b[1;32m      9\u001b[0m     \u001b[0mvader_embeddings\u001b[0m \u001b[0;34m=\u001b[0m \u001b[0;34m[\u001b[0m\u001b[0;34m]\u001b[0m\u001b[0;34m\u001b[0m\u001b[0;34m\u001b[0m\u001b[0m\n",
      "\u001b[0;31mNameError\u001b[0m: name 'findClosestVader' is not defined"
     ]
    }
   ],
   "source": [
    "art_links = pd.read_csv('art_links.csv')\n",
    "art_pieces = []\n",
    "for pos in range(len(art_links)):\n",
    "    art_pieces.append(ArtPiece('imgLoc', art_links.Link[pos], art_links.Tags[pos]))\n",
    "    \n",
    "for art in art_pieces:\n",
    "    art.set_vader(' '.join(findClosestVader(art.get_tags(False), int(len(art.get_tags(True))/3))))\n",
    "    tag_embeddings = []\n",
    "    vader_embeddings = []\n",
    "    for term in art.get_tags(True):\n",
    "        try:\n",
    "            tag_embeddings.append(glove[term.lower()])\n",
    "        except:\n",
    "            pass\n",
    "    art.set_tag_embedding(tag_embeddings)\n",
    "    for term in art.get_vader(True):\n",
    "        try:\n",
    "            vader_embeddings.append(glove[term.lower()])\n",
    "        except:\n",
    "            pass\n",
    "    art.set_vader_embedding(vader_embeddings)\n",
    "\n",
    "with open('Art.pickle', 'wb') as f:\n",
    "    pickle.dump(art_pieces, f)"
   ]
  },
  {
   "cell_type": "code",
   "execution_count": null,
   "id": "be785549",
   "metadata": {},
   "outputs": [],
   "source": []
  }
 ],
 "metadata": {
  "kernelspec": {
   "display_name": "Python 3 (ipykernel)",
   "language": "python",
   "name": "python3"
  },
  "language_info": {
   "codemirror_mode": {
    "name": "ipython",
    "version": 3
   },
   "file_extension": ".py",
   "mimetype": "text/x-python",
   "name": "python",
   "nbconvert_exporter": "python",
   "pygments_lexer": "ipython3",
   "version": "3.8.8"
  }
 },
 "nbformat": 4,
 "nbformat_minor": 5
}
