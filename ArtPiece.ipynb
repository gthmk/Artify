{
 "cells": [
  {
   "cell_type": "code",
   "execution_count": 1,
   "id": "fac34f26",
   "metadata": {},
   "outputs": [],
   "source": [
    "class ArtPiece:\n",
    "    def __init__(self, image_loc, image_link, tags, name=None, artist=None, year=None):\n",
    "        self.image_loc = image_loc\n",
    "        self.image_link = image_link\n",
    "        self.tags = tags\n",
    "        self.name = name\n",
    "        self.artist = artist\n",
    "        self.year = year\n",
    "        self.vader_embedding = None\n",
    "        self.tag_embedding = None\n",
    "        self.vader = None\n",
    "        \n",
    "    def get_tags(self, listForm = False, splitChar = ' '):\n",
    "        if listForm:\n",
    "            return self.tags.split(splitChar)\n",
    "        return self.tags\n",
    "\n",
    "    def get_vader(self, listForm = False, splitChar = ' '):\n",
    "        if listForm:\n",
    "            return self.vader.split(splitChar)\n",
    "        return self.vader\n",
    "    \n",
    "    def get_combined(self, listForm = False, splitChar = ' '):\n",
    "        if listForm:\n",
    "            return self.tags.split(splitChar) + self.vader.split(splitChar)\n",
    "        return '{} {}'.format(self.tags, self.vader)\n",
    "    \n",
    "    def get_combined_embedding(self):\n",
    "        return self.tag_embedding + self.vader_embedding\n",
    "    \n",
    "    def get_vader_embedding(self):\n",
    "        return self.vader_embedding\n",
    "    \n",
    "    def get_tag_embedding(self):\n",
    "        return self.tag_embedding\n",
    "    \n",
    "    def set_vader_embedding(self, vader_embedding):\n",
    "        self.vader_embedding = vader_embedding\n",
    "    \n",
    "    def set_tag_embedding(self, tag_embedding):\n",
    "        self.tag_embedding = tag_embedding\n",
    "        \n",
    "    def set_vader(self, vader):\n",
    "        self.vader = vader\n",
    "    \n",
    "    \n",
    "    "
   ]
  },
  {
   "cell_type": "code",
   "execution_count": 3,
   "id": "b8e12319",
   "metadata": {},
   "outputs": [
    {
     "name": "stdout",
     "output_type": "stream",
     "text": [
      "Collecting vaderSentiment\n",
      "  Using cached vaderSentiment-3.3.2-py2.py3-none-any.whl (125 kB)\n",
      "Requirement already satisfied: requests in /opt/anaconda3/envs/CalHacks/lib/python3.8/site-packages (from vaderSentiment) (2.25.1)\n",
      "Requirement already satisfied: urllib3<1.27,>=1.21.1 in /opt/anaconda3/envs/CalHacks/lib/python3.8/site-packages (from requests->vaderSentiment) (1.26.7)\n",
      "Requirement already satisfied: certifi>=2017.4.17 in /opt/anaconda3/envs/CalHacks/lib/python3.8/site-packages (from requests->vaderSentiment) (2021.10.8)\n",
      "Requirement already satisfied: idna<3,>=2.5 in /opt/anaconda3/envs/CalHacks/lib/python3.8/site-packages (from requests->vaderSentiment) (2.10)\n",
      "Requirement already satisfied: chardet<5,>=3.0.2 in /opt/anaconda3/envs/CalHacks/lib/python3.8/site-packages (from requests->vaderSentiment) (4.0.0)\n",
      "Installing collected packages: vaderSentiment\n",
      "Successfully installed vaderSentiment-3.3.2\n"
     ]
    }
   ],
   "source": [
    "!pip install vaderSentiment"
   ]
  },
  {
   "cell_type": "code",
   "execution_count": 4,
   "id": "3fb2f070",
   "metadata": {},
   "outputs": [],
   "source": [
    "from vaderSentiment.vaderSentiment import SentimentIntensityAnalyzer\n",
    "import pandas as pd\n",
    "from heapq import nsmallest\n",
    "\n",
    "def calc_sentiment(text):\n",
    "    analyzer = SentimentIntensityAnalyzer()\n",
    "    return analyzer.polarity_scores(text)\n",
    "    \n",
    "def sentiment_scores(row):\n",
    "    return calc_sentiment(row.Word)['compound']\n",
    "    \n",
    "emotion_data = pd.read_csv('/Users/gautham/Documents/Documents - gBookPro/Berkeley MIMS/CalHacks/prototype/Artify/frontend/data/emotion_terms.csv')\n",
    "emotion_data['compound_score'] = emotion_data.apply(sentiment_scores, axis=1)\n",
    "\n",
    "def findClosestVader(text, num_words):\n",
    "    emotion_list = []\n",
    "    compound_score = calc_sentiment(text)['compound']\n",
    "    for pos in range(len(emotion_data)):\n",
    "        emotion_list.append((abs(emotion_data.compound_score[pos]-compound_score), emotion_data.Word[pos]))\n",
    "        \n",
    "    return [x[1] for x in nsmallest(num_words, emotion_list)]"
   ]
  },
  {
   "cell_type": "code",
   "execution_count": 6,
   "id": "f5dfaf89",
   "metadata": {},
   "outputs": [],
   "source": [
    "import pickle"
   ]
  },
  {
   "cell_type": "code",
   "execution_count": 7,
   "id": "c60a50dd",
   "metadata": {},
   "outputs": [],
   "source": [
    "sl\n",
    "\n",
    "with open('Art.pickle', 'wb') as f:\n",
    "    pickle.dump(art_pieces, f)"
   ]
  },
  {
   "cell_type": "code",
   "execution_count": null,
   "id": "d72838b2",
   "metadata": {},
   "outputs": [],
   "source": []
  }
 ],
 "metadata": {
  "kernelspec": {
   "display_name": "Python [conda env:CalHacks] *",
   "language": "python",
   "name": "conda-env-CalHacks-py"
  },
  "language_info": {
   "codemirror_mode": {
    "name": "ipython",
    "version": 3
   },
   "file_extension": ".py",
   "mimetype": "text/x-python",
   "name": "python",
   "nbconvert_exporter": "python",
   "pygments_lexer": "ipython3",
   "version": "3.8.8"
  }
 },
 "nbformat": 4,
 "nbformat_minor": 5
}
